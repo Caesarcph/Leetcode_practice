{
 "cells": [
  {
   "cell_type": "code",
   "execution_count": null,
   "metadata": {},
   "outputs": [],
   "source": [
    "class Solution:\n",
    "    def numIdenticalPairs(self, nums: list[int]) -> int:\n",
    "        d={}\n",
    "        for i in nums:\n",
    "            if i in d:\n",
    "                d[i]+=1\n",
    "            else:\n",
    "                d[i]=1\n",
    "        count=0\n",
    "        for i in d:\n",
    "            a=d[i]\n",
    "            if(a>1):\n",
    "                count+=(a*(a-1))//2\n",
    "        return count"
   ]
  },
  {
   "cell_type": "markdown",
   "metadata": {},
   "source": [
    "#### `numIdenticalPairs` Method\n",
    "- **Purpose**: This method counts the number of \"good pairs\" in the list `nums`. A pair (i, j) is called good if `nums[i] == nums[j]` and `i < j`.\n",
    "- **Parameters**:\n",
    "  - `nums`: A list of integers.\n",
    "\n",
    "#### Steps\n",
    "\n",
    "1. **Count Frequencies**:\n",
    "   - `d = {}`: Initializes an empty dictionary to store the frequency of each number in `nums`.\n",
    "   - `for i in nums`: Iterates over each number `i` in `nums`.\n",
    "     - `if i in d: d[i] += 1`: If `i` is already a key in the dictionary `d`, increment its value by 1.\n",
    "     - `else: d[i] = 1`: If `i` is not in the dictionary, add it with a value of 1.\n",
    "\n",
    "2. **Calculate Good Pairs**:\n",
    "   - `count = 0`: Initializes a variable `count` to keep track of the number of good pairs.\n",
    "   - `for i in d`: Iterates over each key `i` in the dictionary `d`.\n",
    "     - `a = d[i]`: Stores the frequency of the number `i` in the variable `a`.\n",
    "     - `if a > 1`: If the frequency `a` is greater than 1, it means there are pairs that can be formed.\n",
    "       - `count += (a * (a - 1)) // 2`: The number of ways to choose 2 items from `a` items is given by the combination formula \\( \\binom{a}{2} = \\frac{a(a - 1)}{2} \\). Add this value to `count`.\n",
    "\n",
    "3. **Return Result**:\n",
    "   - `return count`: Returns the total count of good pairs.\n",
    "\n",
    "### Time Complexity\n",
    "- **Frequency Counting**: The loop `for i in nums` runs \\( n \\) times, where \\( n \\) is the length of `nums`. Each dictionary operation (check, insert, update) runs in average \\( O(1) \\) time. Therefore, this step takes \\( O(n) \\) time.\n",
    "- **Counting Good Pairs**: The loop `for i in d` runs \\( k \\) times, where \\( k \\) is the number of unique elements in `nums`. In the worst case, \\( k = n \\), but typically \\( k \\leq n \\). Calculating the combinations takes \\( O(1) \\) time per iteration, making this step \\( O(k) \\). However, since \\( k \\leq n \\), this step also takes \\( O(n) \\) time.\n",
    "\n",
    "Overall, the time complexity is \\( O(n) \\).\n",
    "\n",
    "### Space Complexity\n",
    "- **Dictionary Storage**: The dictionary `d` stores up to \\( n \\) key-value pairs in the worst case. Therefore, the space complexity is \\( O(n) \\).\n",
    "- **Extra Variables**: The extra space used for variables (`count`, `a`) is constant, \\( O(1) \\).\n",
    "\n",
    "Overall, the space complexity is \\( O(n) \\).\n",
    "\n",
    "### Summary\n",
    "- **Time Complexity**: \\( O(n) \\)\n",
    "- **Space Complexity**: \\( O(n) \\)"
   ]
  }
 ],
 "metadata": {
  "language_info": {
   "name": "python"
  }
 },
 "nbformat": 4,
 "nbformat_minor": 2
}
