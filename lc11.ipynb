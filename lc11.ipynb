{
 "cells": [
  {
   "cell_type": "code",
   "execution_count": null,
   "metadata": {},
   "outputs": [],
   "source": [
    "class Solution:\n",
    "    def maxArea(self, height: list[int]) -> int:\n",
    "        left = 0\n",
    "        right = len(height) - 1\n",
    "        maxArea = 0\n",
    "\n",
    "        while left < right:\n",
    "            currentArea = min(height[left], height[right]) * (right - left)\n",
    "            maxArea = max(maxArea, currentArea)\n",
    "            print(currentArea, maxArea)\n",
    "\n",
    "            if height[left] < height[right]:\n",
    "                left += 1\n",
    "            else:\n",
    "                right -= 1\n",
    "\n",
    "        return maxArea"
   ]
  },
  {
   "cell_type": "markdown",
   "metadata": {},
   "source": [
    "#### `maxArea` Method\n",
    "- **Purpose**: This method finds the maximum area of water that can be contained by using any two lines from the given list `height`, where each element in `height` represents the height of a line on the x-axis.\n",
    "- **Parameters**:\n",
    "  - `height`: A list of integers representing the heights of lines.\n",
    "\n",
    "#### Variables\n",
    "- `left`: Initializes to the start of the list (index 0).\n",
    "- `right`: Initializes to the end of the list (index `len(height) - 1`).\n",
    "- `maxArea`: Stores the maximum area found so far, initialized to 0.\n",
    "\n",
    "#### While Loop\n",
    "- **Condition**: `while left < right`: Continues until the `left` pointer is no longer less than the `right` pointer.\n",
    "- **Calculations**:\n",
    "  1. `currentArea = min(height[left], height[right]) * (right - left)`: Calculates the area formed by the lines at the `left` and `right` pointers and the width between them.\n",
    "  2. `maxArea = max(maxArea, currentArea)`: Updates `maxArea` if `currentArea` is greater than the current `maxArea`.\n",
    "  3. `print(currentArea, maxArea)`: Prints the current area and the maximum area found so far (for debugging purposes).\n",
    "- **Pointer Adjustment**:\n",
    "  - If the height at the `left` pointer is less than the height at the `right` pointer, increment `left` to try to find a taller line.\n",
    "  - Otherwise, decrement `right` to try to find a taller line on the other end.\n",
    "\n",
    "#### Return\n",
    "- `return maxArea`: Returns the maximum area found.\n",
    "\n",
    "### Time Complexity\n",
    "- The algorithm uses a two-pointer technique and iterates through the list with the `left` and `right` pointers moving towards each other.\n",
    "- Each element in the list is processed once, resulting in a time complexity of \\( O(n) \\), where \\( n \\) is the length of the `height` list.\n",
    "\n",
    "### Space Complexity\n",
    "- The algorithm uses a constant amount of extra space for the variables `left`, `right`, `maxArea`, and `currentArea`.\n",
    "- The space complexity is \\( O(1) \\).\n",
    "\n",
    "### Summary\n",
    "- **Time Complexity**: \\( O(n) \\)\n",
    "- **Space Complexity**: \\( O(1) \\)\n"
   ]
  }
 ],
 "metadata": {
  "language_info": {
   "name": "python"
  }
 },
 "nbformat": 4,
 "nbformat_minor": 2
}
