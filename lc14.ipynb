{
 "cells": [
  {
   "cell_type": "code",
   "execution_count": null,
   "metadata": {},
   "outputs": [],
   "source": [
    "class Solution:\n",
    "    def longestCommonPrefix(self, v: list[str]) -> str:\n",
    "        ans=\"\"\n",
    "        v=sorted(v)\n",
    "        first=v[0]\n",
    "        last=v[-1]\n",
    "        for i in range(min(len(first),len(last))):\n",
    "            if(first[i]!=last[i]):\n",
    "                return ans\n",
    "            ans+=first[i]\n",
    "        return ans \n"
   ]
  },
  {
   "cell_type": "markdown",
   "metadata": {},
   "source": [
    "#### `longestCommonPrefix` Method\n",
    "- **Purpose**: This method finds the longest common prefix string amongst an array of strings.\n",
    "- **Parameters**:\n",
    "  - `v`: A list of strings.\n",
    "\n",
    "#### Steps\n",
    "1. **Initialization**:\n",
    "   - `ans = \"\"`: Initializes an empty string to store the longest common prefix.\n",
    "   - `v = sorted(v)`: Sorts the list of strings `v` lexicographically. This ensures that the first and the last strings in the sorted list will have the minimum and maximum possible common prefix.\n",
    "\n",
    "2. **Edge Cases**:\n",
    "   - If the list `v` is empty, the sorted list will also be empty, but the function implicitly handles this by comparing `first` and `last`, which would raise an index error if `v` is empty. This should be handled explicitly in a production code to return an empty string if `v` is empty.\n",
    "\n",
    "3. **Variables**:\n",
    "   - `first = v[0]`: The first string in the sorted list.\n",
    "   - `last = v[-1]`: The last string in the sorted list.\n",
    "\n",
    "4. **Loop through Characters**:\n",
    "   - `for i in range(min(len(first), len(last)))`: Iterates through the characters of the `first` and `last` strings up to the length of the shorter string.\n",
    "   - `if first[i] != last[i]`: If the characters at the same position in `first` and `last` are different, return the current value of `ans` because the common prefix ends here.\n",
    "   - `ans += first[i]`: If the characters are the same, append the character to `ans`.\n",
    "\n",
    "5. **Return Statement**:\n",
    "   - `return ans`: Returns the longest common prefix found.\n",
    "\n",
    "### Time Complexity\n",
    "- **Sorting**: Sorting the list `v` takes \\( O(n \\log n) \\), where \\( n \\) is the number of strings in the list.\n",
    "- **Finding Common Prefix**: Comparing the first and last strings character by character takes \\( O(m) \\), where \\( m \\) is the length of the shortest string in the list.\n",
    "\n",
    "Overall, the time complexity is dominated by the sorting step, resulting in \\( O(n \\log n) \\).\n",
    "\n",
    "### Space Complexity\n",
    "- **Sorting**: The space complexity for sorting is \\( O(n) \\) because ipynbthon's `sort` function uses Timsort, which requires additional space proportional to the input size.\n",
    "- **Extra Variables**: The space used for `ans`, `first`, and `last` is \\( O(m) \\), where \\( m \\) is the length of the longest string in the list.\n",
    "\n",
    "Overall, the space complexity is \\( O(n + m) \\).\n",
    "\n",
    "### Summary\n",
    "- **Time Complexity**: \\( O(n \\log n) \\)\n",
    "- **Space Complexity**: \\( O(n + m) \\)\n"
   ]
  }
 ],
 "metadata": {
  "language_info": {
   "name": "python"
  }
 },
 "nbformat": 4,
 "nbformat_minor": 2
}
