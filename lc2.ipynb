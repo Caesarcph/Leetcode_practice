{
 "cells": [
  {
   "cell_type": "code",
   "execution_count": null,
   "metadata": {},
   "outputs": [],
   "source": [
    "class Solution:\n",
    "    def isAnagram(self, s: str, t: str) -> bool:\n",
    "        def freq(s):\n",
    "            ans=[0]*26\n",
    "            for c in s:\n",
    "                ans[ord(c)-ord('a')]+=1\n",
    "            return ans\n",
    "\n",
    "        return freq(s)==freq(t)"
   ]
  },
  {
   "cell_type": "markdown",
   "metadata": {},
   "source": [
    "#### `isAnagram` Method\n",
    "- **Purpose**: This method determines whether the strings `s` and `t` are anagrams of each other. An anagram is a word formed by rearranging the letters of another, using all the original letters exactly once.\n",
    "- **Parameters**:\n",
    "  - `s`: The first string.\n",
    "  - `t`: The second string.\n",
    "\n",
    "#### `freq` Function\n",
    "- **Purpose**: This inner function calculates the frequency of each letter in the given string `s`.\n",
    "- **Steps**:\n",
    "  1. `ans = [0] * 26`: Initializes a list of 26 zeros, one for each letter of the English alphabet.\n",
    "  2. `for c in s`: Iterates over each character `c` in the string `s`.\n",
    "  3. `ans[ord(c) - ord('a')] += 1`: Converts the character `c` to its corresponding index in the alphabet (where 'a' is 0, 'b' is 1, ..., 'z' is 25) and increments the count at that index in the `ans` list.\n",
    "  4. `return ans`: Returns the frequency list.\n",
    "\n",
    "#### Comparing Frequencies\n",
    "- `return freq(s) == freq(t)`: Compares the frequency lists of `s` and `t`. If they are identical, `s` and `t` are anagrams, and the function returns `True`. Otherwise, it returns `False`.\n",
    "\n",
    "### Time Complexity\n",
    "- **`freq` function**: The time complexity for this function is \\( O(n) \\), where \\( n \\) is the length of the string `s`. This is because we iterate over each character of `s` exactly once.\n",
    "- **`isAnagram` method**: Calls the `freq` function twice (once for `s` and once for `t`), each with a time complexity of \\( O(n) \\) and \\( O(m) \\) respectively, where \\( n \\) and \\( m \\) are the lengths of `s` and `t`. The comparison of two lists (each of constant length 26) takes \\( O(1) \\) time.\n",
    "\n",
    "Overall, the time complexity of the `isAnagram` method is \\( O(n + m) \\).\n",
    "\n",
    "### Space Complexity\n",
    "- **`freq` function**: The space complexity is \\( O(1) \\) because the size of the `ans` list is fixed at 26, regardless of the input size.\n",
    "- **`isAnagram` method**: The space complexity is also \\( O(1) \\) since we only use a constant amount of extra space (two lists of 26 elements each).\n",
    "\n",
    "### Summary\n",
    "- **Time Complexity**: \\( O(n + m) \\)\n",
    "- **Space Complexity**: \\( O(1) \\)\n"
   ]
  }
 ],
 "metadata": {
  "language_info": {
   "name": "python"
  }
 },
 "nbformat": 4,
 "nbformat_minor": 2
}
