{
 "cells": [
  {
   "cell_type": "code",
   "execution_count": null,
   "metadata": {},
   "outputs": [],
   "source": [
    "class Solution(object):\n",
    "    def isValid(self, s):\n",
    "        stack = []\n",
    "        for c in s: \n",
    "            if c in \"([{\":\n",
    "                stack.append(c) \n",
    "            else:\n",
    "                if (\n",
    "                    not stack\n",
    "                    or (c == \")\" and stack[-1] != \"(\")\n",
    "                    or (c == \"}\" and stack[-1] != \"{\")\n",
    "                    or (c == \"]\" and stack[-1] != \"[\")\n",
    "                ):\n",
    "                    return False \n",
    "                stack.pop() \n",
    "        return (\n",
    "            not stack\n",
    "        )  "
   ]
  },
  {
   "cell_type": "markdown",
   "metadata": {},
   "source": [
    "#### `isValid` Method\n",
    "- **Purpose**: This method determines whether a given string `s` containing just the characters '(', ')', '{', '}', '[' and ']', is valid. A string is considered valid if the brackets are closed in the correct order.\n",
    "- **Parameters**:\n",
    "  - `s`: A string containing the characters '(', ')', '{', '}', '[' and ']'.\n",
    "\n",
    "#### Steps\n",
    "1. **Initialization**:\n",
    "   - `stack = []`: Initializes an empty list to use as a stack.\n",
    "\n",
    "2. **Iterate Over Characters**:\n",
    "   - `for c in s`: Iterates over each character `c` in the string `s`.\n",
    "\n",
    "3. **Push Opening Brackets onto Stack**:\n",
    "   - `if c in \"([{\": stack.append(c)`: If the character is an opening bracket, push it onto the stack.\n",
    "\n",
    "4. **Handle Closing Brackets**:\n",
    "   - `else`: If the character is a closing bracket:\n",
    "     - `if not stack`: If the stack is empty, return `False` because there is no matching opening bracket.\n",
    "     - `or (c == \")\" and stack[-1] != \"(\")`: If the character is ')' and the top of the stack is not '(', return `False`.\n",
    "     - `or (c == \"}\" and stack[-1] != \"{\")`: If the character is '}' and the top of the stack is not '{', return `False`.\n",
    "     - `or (c == \"]\" and stack[-1] != \"[\")`: If the character is ']' and the top of the stack is not '[', return `False`.\n",
    "   - `stack.pop()`: If the character matches the top of the stack, pop the top of the stack.\n",
    "\n",
    "5. **Check Stack**:\n",
    "   - `return not stack`: If the stack is empty, return `True` because all brackets were matched correctly. If not, return `False`.\n",
    "\n",
    "### Time Complexity\n",
    "- **Iterate Over Characters**: The algorithm iterates over each character in the string `s` exactly once. This step has a time complexity of \\( O(n) \\), where \\( n \\) is the length of the string `s`.\n",
    "\n",
    "### Space Complexity\n",
    "- **Stack**: The space complexity is determined by the space used by the stack. In the worst case, all characters in the string are opening brackets, so the stack will contain all \\( n \\) characters. This results in a space complexity of \\( O(n) \\).\n",
    "\n",
    "### Summary\n",
    "- **Time Complexity**: \\( O(n) \\)\n",
    "- **Space Complexity**: \\( O(n) \\)"
   ]
  }
 ],
 "metadata": {
  "language_info": {
   "name": "python"
  }
 },
 "nbformat": 4,
 "nbformat_minor": 2
}
