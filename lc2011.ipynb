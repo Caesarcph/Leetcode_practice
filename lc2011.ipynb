{
 "cells": [
  {
   "cell_type": "code",
   "execution_count": null,
   "metadata": {},
   "outputs": [],
   "source": [
    "class Solution:\n",
    "    def finalValueAfterOperations(self, operations: list[str]) -> int:\n",
    "\n",
    "        return 0+operations.count('X++')+operations.count('++X')-operations.count('X--')-operations.count('--X')"
   ]
  },
  {
   "cell_type": "markdown",
   "metadata": {},
   "source": [
    "#### `finalValueAfterOperations` Method\n",
    "- **Purpose**: This method calculates the final value of a variable after performing a series of increment and decrement operations represented by the list `operations`.\n",
    "- **Parameters**:\n",
    "  - `operations`: A list of strings where each string represents an operation. The possible operations are 'X++', '++X', 'X--', and '--X'.\n",
    "\n",
    "#### Steps\n",
    "\n",
    "1. **Count Occurrences of Each Operation**:\n",
    "   - `operations.count('X++')`: Counts the number of times 'X++' appears in the list. This operation increments the variable by 1.\n",
    "   - `operations.count('++X')`: Counts the number of times '++X' appears in the list. This operation also increments the variable by 1.\n",
    "   - `operations.count('X--')`: Counts the number of times 'X--' appears in the list. This operation decrements the variable by 1.\n",
    "   - `operations.count('--X')`: Counts the number of times '--X' appears in the list. This operation also decrements the variable by 1.\n",
    "\n",
    "2. **Calculate the Final Value**:\n",
    "   - `0 + operations.count('X++') + operations.count('++X') - operations.count('X--') - operations.count('--X')`: Initializes the variable to 0, then adds the counts of increment operations and subtracts the counts of decrement operations to compute the final value.\n",
    "\n",
    "3. **Return the Result**:\n",
    "   - `return`: Returns the calculated final value.\n",
    "\n",
    "### Example\n",
    "Let's consider an example to see how it works:\n",
    "\n",
    "- Suppose `operations = [\"X++\", \"++X\", \"--X\", \"X--\"]`.\n",
    "- `operations.count('X++')` returns 1.\n",
    "- `operations.count('++X')` returns 1.\n",
    "- `operations.count('X--')` returns 1.\n",
    "- `operations.count('--X')` returns 1.\n",
    "- The final value is `0 + 1 + 1 - 1 - 1 = 0`.\n",
    "\n",
    "### Time Complexity\n",
    "- **Counting Operations**: Each call to `operations.count()` iterates over the entire list to count the occurrences of the specified operation. If the list contains `n` operations, each `count` call takes \\( O(n) \\) time.\n",
    "- Since there are four `count` calls, the overall time complexity is \\( O(4n) \\), which simplifies to \\( O(n) \\).\n",
    "\n",
    "### Space Complexity\n",
    "- **Auxiliary Space**: The space complexity is \\( O(1) \\) because the algorithm uses a constant amount of extra space for counting and performing arithmetic operations.\n",
    "\n",
    "### Summary\n",
    "- **Time Complexity**: \\( O(n) \\)\n",
    "- **Space Complexity**: \\( O(1) \\)"
   ]
  }
 ],
 "metadata": {
  "language_info": {
   "name": "python"
  }
 },
 "nbformat": 4,
 "nbformat_minor": 2
}
