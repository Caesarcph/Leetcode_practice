{
 "cells": [
  {
   "cell_type": "code",
   "execution_count": null,
   "metadata": {},
   "outputs": [],
   "source": [
    "class Solution:\n",
    "    def removeDuplicates(self, nums: List[int]) -> int:\n",
    "        j = 1\n",
    "        for i in range(1, len(nums)):\n",
    "            if nums[i] != nums[i - 1]:\n",
    "                nums[j] = nums[i]\n",
    "                j += 1\n",
    "        return j"
   ]
  },
  {
   "cell_type": "markdown",
   "metadata": {},
   "source": [
    "#### Step-by-Step Explanation:\n",
    "\n",
    "1. **Initialization**:\n",
    "   ```python\n",
    "   j = 1\n",
    "   ```\n",
    "   - A pointer `j` is initialized to 1. This pointer is used to track the position where the next unique element should be placed.\n",
    "\n",
    "2. **Iteration**:\n",
    "   ```python\n",
    "   for i in range(1, len(nums)):\n",
    "   ```\n",
    "   - A `for` loop starts with `i` ranging from 1 to `len(nums) - 1`. This loop iterates through the list starting from the second element.\n",
    "\n",
    "3. **Condition to Check for Duplicates**:\n",
    "   ```python\n",
    "   if nums[i] != nums[i - 1]:\n",
    "   ```\n",
    "   - Inside the loop, there is an `if` statement that checks whether the current element `nums[i]` is different from the previous element `nums[i - 1]`.\n",
    "\n",
    "4. **Updating the List and Pointer**:\n",
    "   ```python\n",
    "   nums[j] = nums[i]\n",
    "   j += 1\n",
    "   ```\n",
    "   - If the condition is true (i.e., the current element is different from the previous element), it means we have found a unique element. This unique element is then placed at the position indicated by `j`.\n",
    "   - The pointer `j` is incremented to the next position.\n",
    "\n",
    "5. **Returning the Result**:\n",
    "   ```python\n",
    "   return j\n",
    "   ```\n",
    "   - After the loop finishes, the method returns `j`, which represents the number of unique elements in the list.\n",
    "\n",
    "### Example Walkthrough\n",
    "\n",
    "Consider the input list `nums = [1, 1, 2, 2, 3]`:\n",
    "\n",
    "- Initial state: `nums = [1, 1, 2, 2, 3]`, `j = 1`\n",
    "- First iteration (`i = 1`): `nums[1]` is `1`, `nums[0]` is `1` (duplicate, do nothing)\n",
    "- Second iteration (`i = 2`): `nums[2]` is `2`, `nums[1]` is `1` (unique, place `2` at `nums[1]`, increment `j`)\n",
    "  - Updated state: `nums = [1, 2, 2, 2, 3]`, `j = 2`\n",
    "- Third iteration (`i = 3`): `nums[3]` is `2`, `nums[2]` is `2` (duplicate, do nothing)\n",
    "- Fourth iteration (`i = 4`): `nums[4]` is `3`, `nums[3]` is `2` (unique, place `3` at `nums[2]`, increment `j`)\n",
    "  - Updated state: `nums = [1, 2, 3, 2, 3]`, `j = 3`\n",
    "- End of loop: return `j` (which is `3`)\n",
    "\n",
    "The list `nums` is now `[1, 2, 3, 2, 3]`, and the first `3` elements are the unique elements `[1, 2, 3]`.\n",
    "\n",
    "### Time and Space Complexity\n",
    "\n",
    "#### Time Complexity\n",
    "- The algorithm runs a single pass through the list with the `for` loop, making its time complexity \\(O(n)\\), where \\(n\\) is the number of elements in the list.\n",
    "\n",
    "#### Space Complexity\n",
    "- The algorithm uses a constant amount of extra space (only the variable `j`), making its space complexity \\(O(1)\\).\n"
   ]
  }
 ],
 "metadata": {
  "language_info": {
   "name": "python"
  }
 },
 "nbformat": 4,
 "nbformat_minor": 2
}
