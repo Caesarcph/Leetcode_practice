{
 "cells": [
  {
   "cell_type": "code",
   "execution_count": 13,
   "metadata": {},
   "outputs": [],
   "source": [
    "class Solution:\n",
    "    def removeElement(self, nums: List[int], val: int) -> int:\n",
    "        index = 0\n",
    "        for i in range(len(nums)):\n",
    "            if nums[i] != val:\n",
    "                nums[index] = nums[i]\n",
    "                index += 1\n",
    "        return index"
   ]
  },
  {
   "cell_type": "markdown",
   "metadata": {},
   "source": [
    "1. **Initialization:**\n",
    "   ```python\n",
    "       index = 0\n",
    "   ```\n",
    "   - A variable `index` is initialized to 0. This variable will track the position where the next non-`val` element should be placed.\n",
    "\n",
    "2. **Loop Through List:**\n",
    "   ```python\n",
    "       for i in range(len(nums)):\n",
    "   ```\n",
    "   - A `for` loop is used to iterate through each element of the list `nums`. The variable `i` represents the current index in the list.\n",
    "\n",
    "3. **Check and Replace Elements:**\n",
    "   ```python\n",
    "           if nums[i] != val:\n",
    "               nums[index] = nums[i]\n",
    "               index += 1\n",
    "   ```\n",
    "   - Inside the loop, there's a condition to check if the current element `nums[i]` is not equal to `val`.\n",
    "     - If the condition is true (i.e., `nums[i]` is not `val`), the element at index `i` is copied to the position `index` in the list.\n",
    "     - The `index` is then incremented by 1, indicating the next position for a non-`val` element.\n",
    "\n",
    "4. **Return New Length:**\n",
    "   ```python\n",
    "       return index\n",
    "   ```\n",
    "   - After the loop completes, the method returns the value of `index`, which represents the number of elements in the list that are not equal to `val`.\n",
    "\n",
    "### Example\n",
    "\n",
    "Suppose `nums = [3, 2, 2, 3]` and `val = 3`.\n",
    "\n",
    "- Initial state: `nums = [3, 2, 2, 3]`, `index = 0`\n",
    "- Iteration 1: `i = 0`, `nums[0] = 3` (equal to `val`, no change)\n",
    "- Iteration 2: `i = 1`, `nums[1] = 2` (not equal to `val`)\n",
    "  - `nums[0] = 2`\n",
    "  - `index = 1`\n",
    "- Iteration 3: `i = 2`, `nums[2] = 2` (not equal to `val`)\n",
    "  - `nums[1] = 2`\n",
    "  - `index = 2`\n",
    "- Iteration 4: `i = 3`, `nums[3] = 3` (equal to `val`, no change)\n",
    "\n",
    "Final state: `nums = [2, 2, 2, 3]` (first two elements are the new list), `index = 2`.\n",
    "\n",
    "The method returns `2`, indicating the new length of the list is 2.\n",
    "\n",
    "### Time and Space Complexity\n",
    "\n",
    "- **Time Complexity:** The algorithm makes a single pass through the list `nums`, resulting in a time complexity of \\( O(n) \\), where \\( n \\) is the length of the list. Each element is checked exactly once.\n",
    "  \n",
    "- **Space Complexity:** The algorithm uses a constant amount of extra space, \\( O(1) \\), as the modifications are made in place and only a few additional variables (`index` and `i`) are used."
   ]
  }
 ],
 "metadata": {
  "kernelspec": {
   "display_name": "Python 3",
   "language": "python",
   "name": "python3"
  },
  "language_info": {
   "codemirror_mode": {
    "name": "ipython",
    "version": 3
   },
   "file_extension": ".py",
   "mimetype": "text/x-python",
   "name": "python",
   "nbconvert_exporter": "python",
   "pygments_lexer": "ipython3",
   "version": "3.11.5"
  }
 },
 "nbformat": 4,
 "nbformat_minor": 2
}
