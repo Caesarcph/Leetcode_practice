{
 "cells": [
  {
   "cell_type": "code",
   "execution_count": null,
   "metadata": {},
   "outputs": [],
   "source": [
    "class Solution:\n",
    "    def strStr(self, haystack, needle):\n",
    "        for i in range(len(haystack) - len(needle) + 1):\n",
    "            if haystack[i:i+len(needle)] == needle:\n",
    "                return i\n",
    "        return -1"
   ]
  },
  {
   "cell_type": "markdown",
   "metadata": {},
   "source": [
    "1. **Loop Initialization**:\n",
    "   ```python\n",
    "   for i in range(len(haystack) - len(needle) + 1):\n",
    "   ```\n",
    "   - A `for` loop is initiated to iterate through the `haystack` string. The range is determined by `len(haystack) - len(needle) + 1`. This range ensures that we only check valid starting positions where the `needle` could fit into the `haystack`.\n",
    "\n",
    "2. **Substring Comparison**:\n",
    "   ```python\n",
    "   if haystack[i:i+len(needle)] == needle:\n",
    "   ```\n",
    "   - Inside the loop, a slice of `haystack` from index `i` to `i + len(needle)` is compared with `needle`. If the sliced substring is equal to `needle`, the condition evaluates to `True`.\n",
    "\n",
    "3. **Return Index**:\n",
    "   ```python\n",
    "   return i\n",
    "   ```\n",
    "   - If the condition in step 4 is `True`, the method returns the current index `i`, which is the starting position of the first occurrence of `needle` in `haystack`.\n",
    "\n",
    "4. **Needle Not Found**:\n",
    "   ```python\n",
    "   return -1\n",
    "   ```\n",
    "   - If the loop completes without finding `needle` in `haystack`, the method returns `-1`, indicating that `needle` is not present in `haystack`.\n",
    "\n",
    "### Time and Space Complexity\n",
    "\n",
    "#### Time Complexity\n",
    "- The time complexity of this algorithm is \\(O((n - m + 1) \\cdot m)\\), where \\(n\\) is the length of `haystack` and \\(m\\) is the length of `needle`.\n",
    "  - In the worst case, for each of the \\(n - m + 1\\) starting positions in `haystack`, it compares up to \\(m\\) characters to check if `needle` matches the substring of `haystack`.\n",
    "\n",
    "#### Space Complexity\n",
    "- The space complexity of this algorithm is \\(O(1)\\).\n",
    "  - The space used does not depend on the input size. It uses a constant amount of extra space, mainly for the index variable `i` and the substring comparisons.\n",
    "\n",
    "### Example\n",
    "\n",
    "Let's consider an example to illustrate how this works:\n",
    "\n",
    "```python\n",
    "haystack = \"hello\"\n",
    "needle = \"ll\"\n",
    "```\n",
    "\n",
    "- `len(haystack) = 5`\n",
    "- `len(needle) = 2`\n",
    "- The loop will iterate from `i = 0` to `i = 3` (since `5 - 2 + 1 = 4`).\n",
    "\n",
    "The iterations will be:\n",
    "- `i = 0`: `haystack[0:2]` is `\"he\"`, which is not equal to `\"ll\"`.\n",
    "- `i = 1`: `haystack[1:3]` is `\"el\"`, which is not equal to `\"ll\"`.\n",
    "- `i = 2`: `haystack[2:4]` is `\"ll\"`, which is equal to `\"ll\"`.\n",
    "  - The method returns `2`, which is the index of the first occurrence of `\"ll\"` in `\"hello\"`.\n",
    "\n",
    "If `needle` were not present in `haystack`, the loop would complete, and the method would return `-1`."
   ]
  }
 ],
 "metadata": {
  "language_info": {
   "name": "python"
  }
 },
 "nbformat": 4,
 "nbformat_minor": 2
}
