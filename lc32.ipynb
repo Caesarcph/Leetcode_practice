{
 "cells": [
  {
   "cell_type": "code",
   "execution_count": null,
   "metadata": {},
   "outputs": [],
   "source": [
    "# Definition for singly-linked list.\n",
    "# class ListNode:\n",
    "#     def __init__(self, val=0, next=None):\n",
    "#         self.val = val\n",
    "#         self.next = next\n",
    "class Solution:\n",
    "    def mergeTwoLists(self, list1: Optional[ListNode], list2: Optional[ListNode]) -> Optional[ListNode]:\n",
    "        if not list1 and not list2:\n",
    "            return list1\n",
    "        if not list1 or not list2:\n",
    "            return list1 if not list2 else list2\n",
    "        seek, target = (list1, list2) if list1.val < list2.val else (list2, list1)\n",
    "        head = seek\n",
    "        while seek and target:\n",
    "            while seek.next and seek.next.val < target.val:\n",
    "                seek = seek.next\n",
    "            seek.next, target = target, seek.next\n",
    "            seek = seek.next\n",
    "        return head"
   ]
  },
  {
   "cell_type": "markdown",
   "metadata": {},
   "source": [
    "#### `mergeTwoLists` Method\n",
    "- **Purpose**: This method merges two sorted singly linked lists (`list1` and `list2`) into a single sorted linked list.\n",
    "- **Parameters**:\n",
    "  - `list1`: The head of the first sorted linked list.\n",
    "  - `list2`: The head of the second sorted linked list.\n",
    "\n",
    "#### Steps\n",
    "1. **Handle Empty Lists**:\n",
    "   - `if not list1 and not list2`: If both `list1` and `list2` are empty, return `list1` (which is `None`).\n",
    "   - `if not list1 or not list2`: If either `list1` or `list2` is empty, return the non-empty list.\n",
    "\n",
    "2. **Initialize Pointers**:\n",
    "   - `seek, target = (list1, list2) if list1.val < list2.val else (list2, list1)`: Initialize `seek` to point to the head of the list with the smaller first element, and `target` to point to the head of the other list.\n",
    "   - `head = seek`: Set `head` to point to the start of the merged list.\n",
    "\n",
    "3. **Merge Lists**:\n",
    "   - `while seek and target`: Continue merging as long as both `seek` and `target` are not `None`.\n",
    "     - `while seek.next and seek.next.val < target.val`: Traverse the `seek` list until you find the correct position to insert the `target` node.\n",
    "       - `seek = seek.next`: Move `seek` to the next node.\n",
    "     - `seek.next, target = target, seek.next`: Insert `target` at the correct position in the `seek` list and update `target` to point to the next node.\n",
    "     - `seek = seek.next`: Move `seek` to the next node.\n",
    "\n",
    "4. **Return Head of Merged List**:\n",
    "   - `return head`: Return the head of the merged linked list.\n",
    "\n",
    "### Time Complexity\n",
    "- **Traversal**: Each node from both `list1` and `list2` is visited exactly once. Therefore, the time complexity is \\( O(n + m) \\), where \\( n \\) is the number of nodes in `list1` and \\( m \\) is the number of nodes in `list2`.\n",
    "\n",
    "### Space Complexity\n",
    "- **Extra Space**: The space complexity is \\( O(1) \\) because the algorithm uses a constant amount of extra space for variables (`seek`, `target`, and `head`).\n",
    "\n",
    "### Summary\n",
    "- **Time Complexity**: \\( O(n + m) \\)\n",
    "- **Space Complexity**: \\( O(1) \\)"
   ]
  }
 ],
 "metadata": {
  "language_info": {
   "name": "python"
  }
 },
 "nbformat": 4,
 "nbformat_minor": 2
}
