{
 "cells": [
  {
   "cell_type": "code",
   "execution_count": 6,
   "metadata": {},
   "outputs": [],
   "source": [
    "class Solution:\n",
    "    def lengthOfLastWord(self, s: str) -> int:\n",
    "        i=len(s)-1\n",
    "        count=0\n",
    "        while i>=0:\n",
    "            if s[i]!= \" \":\n",
    "                while i>=0:\n",
    "                    if s[i]!=\" \":\n",
    "                        count=count+1\n",
    "                        i=i-1\n",
    "                    if s[i]==\" \":\n",
    "                        return count\n",
    "            i=i-1\n",
    "        return count\n",
    "        "
   ]
  },
  {
   "cell_type": "markdown",
   "metadata": {},
   "source": [
    "1. **Initialize Variables**:\n",
    "   ```python\n",
    "   i = len(s) - 1\n",
    "   count = 0\n",
    "   ```\n",
    "   - `i` is initialized to the index of the last character in the string (`len(s) - 1`).\n",
    "   - `count` is initialized to `0`. This will be used to count the length of the last word.\n",
    "\n",
    "2. **Outer While Loop**:\n",
    "   ```python\n",
    "   while i >= 0:\n",
    "       if s[i] != \" \":\n",
    "   ```\n",
    "   - The outer `while` loop runs as long as `i` is greater than or equal to `0`.\n",
    "   - Inside the loop, it checks if the current character `s[i]` is not a space.\n",
    "\n",
    "3. **Inner While Loop**:\n",
    "   ```python\n",
    "           while i >= 0:\n",
    "               if s[i] != \" \":\n",
    "                   count = count + 1\n",
    "                   i = i - 1\n",
    "               if s[i] == \" \":\n",
    "                   return count\n",
    "   ```\n",
    "   - When a non-space character is found, the inner `while` loop starts.\n",
    "   - Inside the inner loop, it checks if the current character `s[i]` is not a space.\n",
    "   - If it is not a space, it increments `count` by `1` and decrements `i` by `1`.\n",
    "   - If a space is found, it returns the current `count`, which represents the length of the last word.\n",
    "\n",
    "4. **Decrement Index**:\n",
    "   ```python\n",
    "       i = i - 1\n",
    "   ```\n",
    "   - If the outer `while` loop encounters a space character, it simply decrements `i` to move to the previous character.\n",
    "\n",
    "5. **Return Final Count**:\n",
    "   ```python\n",
    "   return count\n",
    "   ```\n",
    "   - If the loop completes without finding any more spaces (meaning the entire string was traversed or the string ended with non-space characters), it returns the `count`.\n",
    "\n",
    "### Time Complexity\n",
    "\n",
    "The time complexity of this algorithm is \\(O(n)\\), where \\(n\\) is the length of the string `s`. This is because, in the worst case, each character in the string is visited exactly once.\n",
    "\n",
    "### Space Complexity\n",
    "\n",
    "The space complexity of this algorithm is \\(O(1)\\), which means it uses a constant amount of additional space. This is because the algorithm only uses a few extra variables (`i` and `count`) regardless of the input size.\n",
    "\n",
    "### Summary\n",
    "\n",
    "- **The algorithm** scans the string from the end to find the length of the last word by counting characters until it encounters a space or the beginning of the string.\n",
    "- **Time Complexity**: \\(O(n)\\)\n",
    "- **Space Complexity**: \\(O(1)\\)"
   ]
  }
 ],
 "metadata": {
  "kernelspec": {
   "display_name": "Python 3",
   "language": "python",
   "name": "python3"
  },
  "language_info": {
   "codemirror_mode": {
    "name": "ipython",
    "version": 3
   },
   "file_extension": ".py",
   "mimetype": "text/x-python",
   "name": "python",
   "nbconvert_exporter": "python",
   "pygments_lexer": "ipython3",
   "version": "3.11.5"
  }
 },
 "nbformat": 4,
 "nbformat_minor": 2
}
