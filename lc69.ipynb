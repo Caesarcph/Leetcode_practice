{
 "cells": [
  {
   "cell_type": "code",
   "execution_count": null,
   "metadata": {},
   "outputs": [],
   "source": [
    "class Solution:\n",
    "    def mySqrt(self, x: int) -> int:\n",
    "        b = x\n",
    "        while b * b > x:\n",
    "            b = (b + x // b) // 2\n",
    "        return b"
   ]
  },
  {
   "cell_type": "markdown",
   "metadata": {},
   "source": [
    "1. **Initialization**:\n",
    "    ```python\n",
    "    b = x\n",
    "    ```\n",
    "    - This initializes the variable `b` with the value of `x`. The variable `b` will be used to iteratively approximate the square root of `x`.\n",
    "\n",
    "2. **Iterative Improvement**:\n",
    "    ```python\n",
    "    while b * b > x:\n",
    "    ```\n",
    "    - This loop continues to execute as long as the square of `b` is greater than `x`. The goal is to find an integer `b` such that `b * b` is less than or equal to `x`.\n",
    "\n",
    "3. **Updating the Guess**:\n",
    "    ```python\n",
    "    b = (b + x // b) // 2\n",
    "    ```\n",
    "    - This line updates the value of `b` using the Babylonian method. Here's how it works:\n",
    "        - `x // b` computes the integer division of `x` by `b`, which gives an approximation of the square root.\n",
    "        - Adding `b` to this value and then dividing by 2 averages the current guess `b` and the new approximation `x // b`, which improves the guess.\n",
    "\n",
    "4. **Return the Result**:\n",
    "    ```python\n",
    "    return b\n",
    "    ```\n",
    "    - Once the loop exits, `b` is the integer square root of `x`, and the function returns this value.\n",
    "\n",
    "### Example Walkthrough\n",
    "\n",
    "Let's go through an example where \\( x = 10 \\):\n",
    "\n",
    "1. Initialize `b` to `10`.\n",
    "2. Check if \\( 10^2 > 10 \\) (True), so enter the loop.\n",
    "3. Update `b`:\n",
    "   - \\( b = (10 + 10 // 10) // 2 = (10 + 1) // 2 = 5 \\)\n",
    "4. Check if \\( 5^2 > 10 \\) (True), continue loop.\n",
    "5. Update `b`:\n",
    "   - \\( b = (5 + 10 // 5) // 2 = (5 + 2) // 2 = 3 \\)\n",
    "6. Check if \\( 3^2 > 10 \\) (True), continue loop.\n",
    "7. Update `b`:\n",
    "   - \\( b = (3 + 10 // 3) // 2 = (3 + 3) // 2 = 3 \\)\n",
    "8. Since `b` did not change, exit the loop (although technically the loop condition would check if \\( 3^2 > 10 \\) again and fail).\n",
    "9. Return `b`, which is 3.\n",
    "\n",
    "### Time Complexity\n",
    "\n",
    "The time complexity of this algorithm is \\( O(\\log x) \\). This is because the Babylonian method converges quadratically, meaning the number of correct digits roughly doubles with each iteration.\n",
    "\n",
    "### Space Complexity\n",
    "\n",
    "The space complexity is \\( O(1) \\) because the algorithm uses a constant amount of extra space, regardless of the input size."
   ]
  }
 ],
 "metadata": {
  "language_info": {
   "name": "python"
  }
 },
 "nbformat": 4,
 "nbformat_minor": 2
}
