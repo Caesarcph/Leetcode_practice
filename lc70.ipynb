{
 "cells": [
  {
   "cell_type": "code",
   "execution_count": 3,
   "metadata": {},
   "outputs": [],
   "source": [
    "class Solution:\n",
    "    def climbStairs(self, n: int) -> int:\n",
    "        memo = {}\n",
    "        return self.helper(n, memo)\n",
    "    \n",
    "    def helper(self, n: int, memo: dict[int, int]) -> int:\n",
    "        if n == 0 or n == 1:\n",
    "            return 1\n",
    "        if n not in memo:\n",
    "            memo[n] = self.helper(n-1, memo) + self.helper(n-2, memo)\n",
    "        return memo[n]"
   ]
  },
  {
   "cell_type": "markdown",
   "metadata": {},
   "source": [
    "1. **Main Method (`climbStairs`)**:\n",
    "   ```python\n",
    "   def climbStairs(self, n: int) -> int:\n",
    "       memo = {}\n",
    "       return self.helper(n, memo)\n",
    "   ```\n",
    "\n",
    "   - This method, `climbStairs`, takes an integer `n` as input, which represents the number of steps.\n",
    "   - It initializes an empty dictionary `memo` to store the results of subproblems.\n",
    "   - It then calls the helper method `self.helper(n, memo)` to compute the result.\n",
    "\n",
    "2. **Helper Method (`helper`)**:\n",
    "   ```python\n",
    "   def helper(self, n: int, memo: dict[int, int]) -> int:\n",
    "       if n == 0 or n == 1:\n",
    "           return 1\n",
    "       if n not in memo:\n",
    "           memo[n] = self.helper(n-1, memo) + self.helper(n-2, memo)\n",
    "       return memo[n]\n",
    "   ```\n",
    "\n",
    "   - This method is a recursive function that actually computes the number of ways to climb `n` steps.\n",
    "   - It takes two arguments:\n",
    "     - `n`: the number of steps.\n",
    "     - `memo`: a dictionary to store the results of previously computed subproblems to avoid redundant calculations.\n",
    "   \n",
    "   - **Base Case**:\n",
    "     ```python\n",
    "     if n == 0 or n == 1:\n",
    "         return 1\n",
    "     ```\n",
    "     - If `n` is 0 or 1, the function returns 1, as there is only one way to stay at the ground level (0 steps) or to climb 1 step.\n",
    "\n",
    "   - **Memoization Check**:\n",
    "     ```python\n",
    "     if n not in memo:\n",
    "         memo[n] = self.helper(n-1, memo) + self.helper(n-2, memo)\n",
    "     ```\n",
    "     - If the result for `n` steps is not already in `memo`, it calculates it by recursively calling `self.helper(n-1, memo)` and `self.helper(n-2, memo)`, then stores the result in `memo[n]`.\n",
    "\n",
    "   - **Return Memoized Result**:\n",
    "     ```python\n",
    "     return memo[n]\n",
    "     ```\n",
    "     - Finally, it returns the memoized result for `n` steps.\n",
    "\n",
    "### Time Complexity\n",
    "\n",
    "- The time complexity of this algorithm is \\(O(n)\\). Each unique value of `n` from 0 to `n` is computed only once, and each computation takes constant time \\(O(1)\\) when looking up and storing results in the dictionary.\n",
    "\n",
    "### Space Complexity\n",
    "\n",
    "- The space complexity is also \\(O(n)\\):\n",
    "  - The recursion depth can go up to \\(n\\) in the worst case, which means the stack space used by recursion is \\(O(n)\\).\n",
    "  - Additionally, the `memo` dictionary stores results for each integer from 0 to `n`, requiring \\(O(n)\\) space."
   ]
  }
 ],
 "metadata": {
  "kernelspec": {
   "display_name": "Python 3",
   "language": "python",
   "name": "python3"
  },
  "language_info": {
   "codemirror_mode": {
    "name": "ipython",
    "version": 3
   },
   "file_extension": ".py",
   "mimetype": "text/x-python",
   "name": "python",
   "nbconvert_exporter": "python",
   "pygments_lexer": "ipython3",
   "version": "3.11.5"
  }
 },
 "nbformat": 4,
 "nbformat_minor": 2
}
