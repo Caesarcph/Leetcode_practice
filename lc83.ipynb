{
 "cells": [
  {
   "cell_type": "code",
   "execution_count": null,
   "metadata": {},
   "outputs": [],
   "source": [
    "# Definition for singly-linked list.\n",
    "# class ListNode:\n",
    "#     def __init__(self, val=0, next=None):\n",
    "#         self.val = val\n",
    "#         self.next = next\n",
    "class Solution:\n",
    "    def deleteDuplicates(self, head: Optional[ListNode]) -> Optional[ListNode]:\n",
    "        if head== None:\n",
    "            return head\n",
    "        ptr=head\n",
    "        while ptr.next!= None:\n",
    "            if ptr.val==ptr.next.val:\n",
    "                ptr.next=ptr.next.next\n",
    "            else:\n",
    "                ptr=ptr.next\n",
    "        return head"
   ]
  },
  {
   "cell_type": "markdown",
   "metadata": {},
   "source": [
    "- **Check for Empty List**: The first step is to check if the linked list is empty. If `head` is `None`, the method returns `None` immediately as there are no nodes to process.\n",
    "\n",
    "```python\n",
    "        ptr = head\n",
    "```\n",
    "\n",
    "- **Pointer Initialization**: A pointer `ptr` is initialized to point to the head of the linked list. This pointer will be used to traverse the list.\n",
    "\n",
    "```python\n",
    "        while ptr.next != None:\n",
    "```\n",
    "\n",
    "- **Traverse the List**: This `while` loop continues to execute as long as `ptr.next` is not `None`. This ensures that we do not attempt to access the `next` property of a `None` object, which would raise an error.\n",
    "\n",
    "```python\n",
    "            if ptr.val == ptr.next.val:\n",
    "                ptr.next = ptr.next.next\n",
    "```\n",
    "\n",
    "- **Check for Duplicates**: Within the loop, the value of the current node (`ptr.val`) is compared with the value of the next node (`ptr.next.val`). If they are equal, it means there is a duplicate.\n",
    "\n",
    "- **Remove Duplicate**: If a duplicate is found, the `next` reference of the current node is updated to skip the next node (`ptr.next`) and point to the node after the next (`ptr.next.next`). This effectively removes the duplicate node from the list.\n",
    "\n",
    "```python\n",
    "            else:\n",
    "                ptr = ptr.next\n",
    "```\n",
    "\n",
    "- **Move to Next Node**: If the current node and the next node do not have the same value, the pointer `ptr` is moved to the next node.\n",
    "\n",
    "```python\n",
    "        return head\n",
    "```\n",
    "\n",
    "- **Return the Modified List**: After all duplicates have been removed, the modified head of the list is returned.\n",
    "\n",
    "### Time and Space Complexity\n",
    "\n",
    "- **Time Complexity**: The time complexity of this algorithm is \\(O(n)\\), where \\(n\\) is the number of nodes in the linked list. This is because we traverse the entire list once, performing a constant amount of work at each node.\n",
    "\n",
    "- **Space Complexity**: The space complexity is \\(O(1)\\), as the algorithm uses only a constant amount of extra space regardless of the size of the input list. The modifications are made in place."
   ]
  }
 ],
 "metadata": {
  "language_info": {
   "name": "python"
  }
 },
 "nbformat": 4,
 "nbformat_minor": 2
}
