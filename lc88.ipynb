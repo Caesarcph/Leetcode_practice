{
 "cells": [
  {
   "cell_type": "code",
   "execution_count": 12,
   "metadata": {},
   "outputs": [],
   "source": [
    "class Solution:\n",
    "    def merge(self, nums1: List[int], m: int, nums2: List[int],n: int) -> None:\n",
    "\n",
    "        a, b, write_index = m-1, n-1, m + n - 1\n",
    "        while b >= 0:\n",
    "            if a >= 0 and nums1[a] > nums2[b]:\n",
    "                nums1[write_index] = nums1[a]\n",
    "                a -= 1\n",
    "            else:\n",
    "                nums1[write_index] = nums2[b]\n",
    "                b -= 1\n",
    "            write_index -= 1"
   ]
  },
  {
   "cell_type": "markdown",
   "metadata": {},
   "source": [
    "### Code Explanation\n",
    "\n",
    "1. **Initialize Pointers**:\n",
    "   ```python\n",
    "   a, b, write_index = m - 1, n - 1, m + n - 1\n",
    "   ```\n",
    "   - `a` points to the last initialized element in `nums1`.\n",
    "   - `b` points to the last element in `nums2`.\n",
    "   - `write_index` points to the last position of `nums1`, which is where the merged elements will be written from the end.\n",
    "\n",
    "2. **While Loop**:\n",
    "   ```python\n",
    "   while b >= 0:\n",
    "   ```\n",
    "   - This loop continues until all elements in `nums2` are processed (i.e., `b` becomes less than 0).\n",
    "\n",
    "3. **Compare and Write Elements**:\n",
    "   ```python\n",
    "   if a >= 0 and nums1[a] > nums2[b]:\n",
    "       nums1[write_index] = nums1[a]\n",
    "       a -= 1\n",
    "   else:\n",
    "       nums1[write_index] = nums2[b]\n",
    "       b -= 1\n",
    "   write_index -= 1\n",
    "   ```\n",
    "   - If the current element in `nums1` (pointed by `a`) is greater than the current element in `nums2` (pointed by `b`), the element from `nums1` is written to the position pointed by `write_index`.\n",
    "   - If the element in `nums2` is greater or if all elements in `nums1` are already considered (`a < 0`), the element from `nums2` is written to `nums1[write_index]`.\n",
    "   - After writing, the respective pointer (`a` or `b`) is decremented, and `write_index` is also decremented to move to the next position.\n",
    "\n",
    "### Time Complexity\n",
    "- The time complexity of this algorithm is \\(O(m + n)\\). This is because each element in `nums1` and `nums2` is processed exactly once.\n",
    "\n",
    "### Space Complexity\n",
    "- The space complexity is \\(O(1)\\), considering the merging is done in-place within `nums1`, and no additional data structures are used that grow with input size."
   ]
  }
 ],
 "metadata": {
  "kernelspec": {
   "display_name": "Python 3",
   "language": "python",
   "name": "python3"
  },
  "language_info": {
   "codemirror_mode": {
    "name": "ipython",
    "version": 3
   },
   "file_extension": ".py",
   "mimetype": "text/x-python",
   "name": "python",
   "nbconvert_exporter": "python",
   "pygments_lexer": "ipython3",
   "version": "3.11.5"
  }
 },
 "nbformat": 4,
 "nbformat_minor": 2
}
