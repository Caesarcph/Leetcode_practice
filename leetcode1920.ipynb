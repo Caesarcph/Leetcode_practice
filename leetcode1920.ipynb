{
 "cells": [
  {
   "cell_type": "markdown",
   "metadata": {},
   "source": [
    "### First solution\n",
    "1. esasiest way is to use funtion(ans[i] = nums[nums[i]]) given in the question\n",
    "2. time complexity is O(n)\n",
    "3. space complexity is O(n)\n"
   ]
  },
  {
   "cell_type": "code",
   "execution_count": null,
   "metadata": {},
   "outputs": [],
   "source": [
    "class Solution:\n",
    "    def buildArray(self, nums: list[int]) -> list[int]:\n",
    "        ans=[]\n",
    "        for i in range(len(nums)):\n",
    "            ans.append(nums[nums[i]])\n",
    "        return ans\n",
    "        "
   ]
  }
 ],
 "metadata": {
  "language_info": {
   "name": "python"
  }
 },
 "nbformat": 4,
 "nbformat_minor": 2
}
