{
 "cells": [
  {
   "cell_type": "markdown",
   "metadata": {},
   "source": [
    "### First solution\n",
    "1. esasiest way is to use funtion(ans[i] = nums[nums[i]]) given in the question\n",
    "2. time complexity is O(n)\n",
    "3. space complexity is O(n)\n"
   ]
  },
  {
   "cell_type": "code",
   "execution_count": 5,
   "metadata": {},
   "outputs": [],
   "source": [
    "class Solution1:\n",
    "    def buildArray(self, nums: list[int]) -> list[int]:\n",
    "        ans=[]\n",
    "        for i in range(len(nums)):\n",
    "            ans.append(nums[nums[i]])\n",
    "        return ans\n",
    "        "
   ]
  },
  {
   "cell_type": "markdown",
   "metadata": {},
   "source": [
    "### Second solution\n",
    "1. Only need one line of code\n",
    "2. time complexity is O(n)\n",
    "3. space complexity is O(n)"
   ]
  },
  {
   "cell_type": "code",
   "execution_count": 6,
   "metadata": {},
   "outputs": [],
   "source": [
    "class Solution2:\n",
    "    def buildArray(self, nums: list[int]) -> list[int]:\n",
    "        return [nums[i] for i in nums]"
   ]
  },
  {
   "cell_type": "markdown",
   "metadata": {},
   "source": [
    "### Third solution\n",
    "1. Solution with smallest space complexity\n",
    "2. time complexity is O(n)\n",
    "3. space complexity is O(1)"
   ]
  },
  {
   "cell_type": "code",
   "execution_count": 7,
   "metadata": {},
   "outputs": [],
   "source": [
    "class Solution3:\n",
    "    def buildArray(self, nums: list[int]) -> list[int]:\n",
    "        n = len(nums)\n",
    "        for i in range(n) :\n",
    "            nums[i] += (nums[nums[i]]%n) * n\n",
    "            print(nums)\n",
    "        for i in range(n):\n",
    "            nums[i] //= n\n",
    "            print(nums)\n",
    "        return nums"
   ]
  }
 ],
 "metadata": {
  "kernelspec": {
   "display_name": "Python 3",
   "language": "python",
   "name": "python3"
  },
  "language_info": {
   "codemirror_mode": {
    "name": "ipython",
    "version": 3
   },
   "file_extension": ".py",
   "mimetype": "text/x-python",
   "name": "python",
   "nbconvert_exporter": "python",
   "pygments_lexer": "ipython3",
   "version": "3.11.5"
  }
 },
 "nbformat": 4,
 "nbformat_minor": 2
}
