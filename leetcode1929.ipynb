{
 "cells": [
  {
   "cell_type": "markdown",
   "metadata": {},
   "source": [
    "# First solution\n",
    "1. most space efficient solution\n",
    "2. time complexity is O(n)\n",
    "3. space complexity is O(1)"
   ]
  },
  {
   "cell_type": "code",
   "execution_count": 1,
   "metadata": {},
   "outputs": [],
   "source": [
    "class Solution1:\n",
    "    def getConcatenation(self, nums: list[int]) -> list[int]:\n",
    "        for i in range(len(nums)):\n",
    "            nums.append(nums[i])\n",
    "        return nums\n",
    "        "
   ]
  },
  {
   "cell_type": "markdown",
   "metadata": {},
   "source": [
    "# Second solution\n",
    "1. more time efficient solution \n",
    "2. time complexity is O(n)\n",
    "3. space complexity is O(1)"
   ]
  },
  {
   "cell_type": "code",
   "execution_count": 2,
   "metadata": {},
   "outputs": [],
   "source": [
    "class Solution2:\n",
    "    def getConcatenation(self, nums: list[int]) -> list[int]:\n",
    "        nums.extend(nums)\n",
    "        return nums\n",
    "        "
   ]
  }
 ],
 "metadata": {
  "kernelspec": {
   "display_name": "Python 3",
   "language": "python",
   "name": "python3"
  },
  "language_info": {
   "codemirror_mode": {
    "name": "ipython",
    "version": 3
   },
   "file_extension": ".py",
   "mimetype": "text/x-python",
   "name": "python",
   "nbconvert_exporter": "python",
   "pygments_lexer": "ipython3",
   "version": "3.11.5"
  }
 },
 "nbformat": 4,
 "nbformat_minor": 2
}
