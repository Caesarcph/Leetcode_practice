{
 "cells": [
  {
   "cell_type": "markdown",
   "metadata": {},
   "source": [
    "### First solution\n",
    "1. delete same characters in the string, until the string is empty or the string is not an anagram of the 2.other string\n",
    "2. time complexity is O(n^2)\n",
    "3. space complexity is O(n)\n"
   ]
  },
  {
   "cell_type": "code",
   "execution_count": 1,
   "metadata": {},
   "outputs": [],
   "source": [
    "import string\n",
    "class Solution1:\n",
    "    def isAnagram(self, s: str, t: str) -> bool:\n",
    "        while True:\n",
    "            for l in list(string.ascii_lowercase):\n",
    "                if l in s and l in t:\n",
    "                    s=s.replace(l,'',1)\n",
    "                    t=t.replace(l,'',1)\n",
    "                    break\n",
    "            else:\n",
    "                if len(s)==0 and len(t)==0:\n",
    "                    return True\n",
    "                else:\n",
    "                    return False"
   ]
  },
  {
   "cell_type": "markdown",
   "metadata": {},
   "source": [
    "# Second solution\n",
    "1. easiest solution, just compare sorted strings\n",
    "2. time complexity is O(nlogn)\n",
    "3. space complexity is O(n)"
   ]
  },
  {
   "cell_type": "code",
   "execution_count": 2,
   "metadata": {},
   "outputs": [],
   "source": [
    "class Solution2:\n",
    "    def isAnagram(self, s: str, t: str) -> bool:\n",
    "        return sorted(s)==sorted(t)"
   ]
  },
  {
   "cell_type": "markdown",
   "metadata": {},
   "source": [
    "# Third solution\n",
    "1. Use frequency count\n",
    "2. time complexity is O(n)\n",
    "3. space complexity is O(26)"
   ]
  },
  {
   "cell_type": "code",
   "execution_count": null,
   "metadata": {},
   "outputs": [],
   "source": [
    "class Solution3:\n",
    "    def isAnagram(self, s: str, t: str) -> bool:\n",
    "        def freq(s):\n",
    "            ans=[0]*26\n",
    "            for c in s:\n",
    "                ans[ord(c)-ord('a')]+=1\n",
    "            return ans\n",
    "\n",
    "        return freq(s)==freq(t)"
   ]
  }
 ],
 "metadata": {
  "kernelspec": {
   "display_name": "Python 3",
   "language": "python",
   "name": "python3"
  },
  "language_info": {
   "codemirror_mode": {
    "name": "ipython",
    "version": 3
   },
   "file_extension": ".py",
   "mimetype": "text/x-python",
   "name": "python",
   "nbconvert_exporter": "python",
   "pygments_lexer": "ipython3",
   "version": "3.11.5"
  }
 },
 "nbformat": 4,
 "nbformat_minor": 2
}
