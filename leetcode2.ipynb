{
 "cells": [
  {
   "cell_type": "markdown",
   "metadata": {},
   "source": [
    "### First solution\n",
    "delete same characters in the string, until the string is empty or the string is not palindrome\n"
   ]
  },
  {
   "cell_type": "code",
   "execution_count": null,
   "metadata": {},
   "outputs": [],
   "source": [
    "import string\n",
    "class Solution:\n",
    "    def isAnagram(self, s: str, t: str) -> bool:\n",
    "        while True:\n",
    "            for l in list(string.ascii_lowercase):\n",
    "                if l in s and l in t:\n",
    "                    s=s.replace(l,'',1)\n",
    "                    t=t.replace(l,'',1)\n",
    "                    break\n",
    "            else:\n",
    "                if len(s)==0 and len(t)==0:\n",
    "                    return True\n",
    "                else:\n",
    "                    return False"
   ]
  }
 ],
 "metadata": {
  "kernelspec": {
   "display_name": "Python 3",
   "language": "python",
   "name": "python3"
  },
  "language_info": {
   "name": "python",
   "version": "3.11.5"
  }
 },
 "nbformat": 4,
 "nbformat_minor": 2
}
