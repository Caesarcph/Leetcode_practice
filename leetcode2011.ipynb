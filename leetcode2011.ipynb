{
 "cells": [
  {
   "cell_type": "markdown",
   "metadata": {},
   "source": [
    "# First Solution\n",
    "1. normal solution\n",
    "2. time complexity: O(n)\n",
    "3. space complexity: O(1)"
   ]
  },
  {
   "cell_type": "code",
   "execution_count": 1,
   "metadata": {},
   "outputs": [],
   "source": [
    "class Solution1:\n",
    "    def finalValueAfterOperations(self, operations: list[str]) -> int:\n",
    "        x=0\n",
    "        for op in operations:\n",
    "            if op=='++X' or op=='X++':\n",
    "                x=x+1\n",
    "            else:\n",
    "                x=x-1\n",
    "        return x\n",
    "        "
   ]
  },
  {
   "cell_type": "markdown",
   "metadata": {},
   "source": [
    "# Second Solution\n",
    "1. normal solution\n",
    "2. time complexity: O(n)\n",
    "3. space complexity: O(1)"
   ]
  },
  {
   "cell_type": "code",
   "execution_count": 2,
   "metadata": {},
   "outputs": [],
   "source": [
    "class Solution2:\n",
    "    def finalValueAfterOperations(self, operations: list[str]) -> int:\n",
    "\n",
    "        return 0+operations.count('X++')+operations.count('++X')-operations.count('X--')-operations.count('--X')\n",
    "        "
   ]
  },
  {
   "cell_type": "markdown",
   "metadata": {},
   "source": [
    "# Third Solution\n",
    "1. only count + and -\n",
    "2. time complexity: O(n)\n",
    "3. space complexity: O(1)"
   ]
  },
  {
   "cell_type": "code",
   "execution_count": null,
   "metadata": {},
   "outputs": [],
   "source": [
    "class Solution3:\n",
    "    def finalValueAfterOperations(self, operations: list[str]) -> int:\n",
    "\n",
    "        return len([i for i in operations if '+' in i])-len([i for i in operations if '-' in i])\n",
    "        "
   ]
  }
 ],
 "metadata": {
  "kernelspec": {
   "display_name": "Python 3",
   "language": "python",
   "name": "python3"
  },
  "language_info": {
   "codemirror_mode": {
    "name": "ipython",
    "version": 3
   },
   "file_extension": ".py",
   "mimetype": "text/x-python",
   "name": "python",
   "nbconvert_exporter": "python",
   "pygments_lexer": "ipython3",
   "version": "3.11.5"
  }
 },
 "nbformat": 4,
 "nbformat_minor": 2
}
