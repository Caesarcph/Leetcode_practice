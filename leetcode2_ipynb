import string
class Solution:
    def isAnagram(self, s: str, t: str) -> bool:
        while True:
            for l in list(string.ascii_lowercase):
                if l in s and l in t:
                    s=s.replace(l,'',1)
                    t=t.replace(l,'',1)
                    break
            else:
                if len(s)==0 and len(t)==0:
                    return True
                else:
                    return False